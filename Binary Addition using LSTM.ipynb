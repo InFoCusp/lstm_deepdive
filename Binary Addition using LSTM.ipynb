{
 "cells": [
  {
   "cell_type": "markdown",
   "metadata": {},
   "source": [
    "## Binary Addition using LSTM\n",
    "\n",
    "In this notebook, we have trained a LSTM model to add two binary strings of `n` length and output the result as n-length binary string. The main purpose of this implementation is to observe the LSTM hidden state activations for a simple problem and understand its working. \n",
    "\n",
    "We started with 2 LSTM layers and 8 nodes each. However, we observed that a single layered LSTM with 3 nodes also suffices to give accurate results for binary strings upto length 8."
   ]
  },
  {
   "cell_type": "code",
   "execution_count": 1,
   "metadata": {},
   "outputs": [
    {
     "name": "stderr",
     "output_type": "stream",
     "text": [
      "Using TensorFlow backend.\n"
     ]
    }
   ],
   "source": [
    "%matplotlib inline\n",
    "import numpy as np\n",
    "from keras import Sequential\n",
    "from keras.layers import Dense\n",
    "import keras.backend as K\n",
    "import tensorflow as tf\n",
    "import seaborn as sns\n",
    "from matplotlib import pyplot as plt\n",
    "import pprint\n",
    "import random as rn"
   ]
  },
  {
   "cell_type": "code",
   "execution_count": 2,
   "metadata": {},
   "outputs": [],
   "source": [
    "np.random.seed(42) # for reproducibility\n",
    "tf.set_random_seed(1234)\n",
    "rn.seed(12345)"
   ]
  },
  {
   "cell_type": "code",
   "execution_count": 3,
   "metadata": {},
   "outputs": [],
   "source": [
    "pp = pprint.PrettyPrinter(indent=4, depth=4)"
   ]
  },
  {
   "cell_type": "markdown",
   "metadata": {},
   "source": [
    "### Generating Training Dataset "
   ]
  },
  {
   "cell_type": "code",
   "execution_count": 4,
   "metadata": {},
   "outputs": [
    {
     "name": "stdout",
     "output_type": "stream",
     "text": [
      "Largest number of given binary dimension : 256\n"
     ]
    }
   ],
   "source": [
    "binary_dim = 8 # n-length binary string\n",
    "\n",
    "# Setting highest no. to 256 so that we add atmost 8 digits(2^8)\n",
    "largest_number = pow(2,binary_dim)\n",
    "\n",
    "print(\"Largest number of given binary dimension : \" + str(largest_number))"
   ]
  },
  {
   "cell_type": "code",
   "execution_count": 5,
   "metadata": {},
   "outputs": [],
   "source": [
    "#converting numbers into binary form\n",
    "\n",
    "int2binary = {}\n",
    "\n",
    "binary = np.unpackbits(np.array([range(largest_number)],dtype=np.uint8).T,axis=1)\n",
    "\n",
    "for i in range(largest_number):\n",
    "    int2binary[i] = np.flip(np.array(binary[i]))"
   ]
  },
  {
   "cell_type": "markdown",
   "metadata": {},
   "source": [
    "##### For generating training samples:\n",
    "\n",
    "We have defined a function `training_generator` for generating training samples of all possible combinations for adding two binary strings for a particular binary input length. We are taking all the cases by adding all the numbers from 0 to half of the largest number to avoid carry overflow cases.\n",
    "\n",
    "`x_train` has two input binary strings to be added. Thus, it has dimension: <br>\n",
    "    -  'no_of_possible_samples x binary_length x number_of_inputs'. \n",
    "    -  Number of possible samples is dependent on the binary length of the input. Here, we are adding two inputs of 8-bit length. Therefore, binary_length= 8 and number_of_inputs= 2.\n",
    "\n",
    "`y_train` has the binary representation of the output for each case. Thus, it has dimension: <br>\n",
    "    -  'no_of_possible_samples x binary_length'\n",
    "\n",
    "We are flipping the inputs and the outputs, as the RNN/LSTM model will read the input/output from left-to-right whereas binary addition is done from right-to-left."
   ]
  },
  {
   "cell_type": "code",
   "execution_count": 6,
   "metadata": {},
   "outputs": [],
   "source": [
    "def training_generator(binary_dim, largest_number):\n",
    "    x_train = np.array([[np.zeros(binary_dim),np.zeros(binary_dim)]])\n",
    "    y_train = np.array([np.zeros(binary_dim)])\n",
    "    \n",
    "    for i in range(int(largest_number)):\n",
    "        a_array = int2binary[i]\n",
    "        \n",
    "        for j in range(int(largest_number)):\n",
    "            b_array = int2binary[j]\n",
    "    \n",
    "            x = np.array([[a_array,b_array]])\n",
    "            y = [int2binary[i+j]]\n",
    "        \n",
    "            x_train = np.concatenate((x_train, x), axis=0)\n",
    "            y_train = np.concatenate((y_train, y))\n",
    "        \n",
    "    return x_train,y_train"
   ]
  },
  {
   "cell_type": "markdown",
   "metadata": {},
   "source": [
    "##### Parameters to be set:"
   ]
  },
  {
   "cell_type": "code",
   "execution_count": 7,
   "metadata": {},
   "outputs": [],
   "source": [
    "nodes = 3   # Number of embedding cells in LSTM \n",
    "batch_size = 128\n",
    "num_epochs = 12\n",
    "sequence_length = 3    # Length 3 suffices to train all the cases of binary addition"
   ]
  },
  {
   "cell_type": "code",
   "execution_count": 8,
   "metadata": {},
   "outputs": [],
   "source": [
    "X_train, Y_train = training_generator(binary_dim, largest_number/2.0)\n",
    "X_train = X_train[:,:,:sequence_length]\n",
    "X_train = np.transpose(X_train,[0,2,1])"
   ]
  },
  {
   "cell_type": "code",
   "execution_count": 9,
   "metadata": {},
   "outputs": [
    {
     "data": {
      "text/plain": [
       "(16385, 3, 2)"
      ]
     },
     "execution_count": 9,
     "metadata": {},
     "output_type": "execute_result"
    }
   ],
   "source": [
    "X_train.shape"
   ]
  },
  {
   "cell_type": "code",
   "execution_count": 10,
   "metadata": {
    "scrolled": true
   },
   "outputs": [
    {
     "name": "stdout",
     "output_type": "stream",
     "text": [
      "(16385, 3, 1)\n"
     ]
    }
   ],
   "source": [
    "Y_train = Y_train[:,:sequence_length]\n",
    "Y_train = Y_train.reshape(Y_train.shape[0], Y_train.shape[1], 1)\n",
    "print(Y_train.shape)"
   ]
  },
  {
   "cell_type": "markdown",
   "metadata": {},
   "source": [
    "#### LSTM model:"
   ]
  },
  {
   "cell_type": "code",
   "execution_count": 11,
   "metadata": {},
   "outputs": [],
   "source": [
    "def zero_loss(y_true, y_pred):\n",
    "    return K.zeros_like(y_pred)"
   ]
  },
  {
   "cell_type": "code",
   "execution_count": 12,
   "metadata": {},
   "outputs": [],
   "source": [
    "def lstm_model(seq_len=binary_dim, EMBEDDING_DIM=nodes, batch_size=None, stateful=True):\n",
    "    \n",
    "    source = tf.keras.Input(shape=(seq_len,2), batch_size=batch_size)\n",
    "    print(source.shape)\n",
    "\n",
    "    lstm_1 = tf.keras.layers.LSTM(EMBEDDING_DIM, stateful=stateful, return_sequences=True)(source)\n",
    "    print(lstm_1.shape)\n",
    "    \n",
    "    predicted_digit = tf.keras.layers.Dense(1, activation='sigmoid')(lstm_1)\n",
    "    print(predicted_digit.shape)\n",
    "    \n",
    "    model = tf.keras.Model(inputs=[source], outputs=[predicted_digit,lstm_1])\n",
    "\n",
    "    model.compile(\n",
    "      optimizer=tf.train.RMSPropOptimizer(learning_rate=0.01),\n",
    "      loss=['binary_crossentropy', zero_loss],\n",
    "      metrics=['accuracy'])\n",
    "    return model"
   ]
  },
  {
   "cell_type": "code",
   "execution_count": 13,
   "metadata": {},
   "outputs": [
    {
     "name": "stdout",
     "output_type": "stream",
     "text": [
      "(?, 3, 2)\n",
      "WARNING:tensorflow:From /home/nisarg/.local/lib/python3.6/site-packages/tensorflow/python/ops/resource_variable_ops.py:435: colocate_with (from tensorflow.python.framework.ops) is deprecated and will be removed in a future version.\n",
      "Instructions for updating:\n",
      "Colocations handled automatically by placer.\n",
      "(?, 3, 3)\n",
      "(?, 3, 1)\n"
     ]
    }
   ],
   "source": [
    "tf.keras.backend.clear_session()\n",
    "\n",
    "digit_model = lstm_model(seq_len=sequence_length, EMBEDDING_DIM=nodes, stateful=False)"
   ]
  },
  {
   "cell_type": "code",
   "execution_count": 14,
   "metadata": {
    "scrolled": true
   },
   "outputs": [
    {
     "name": "stdout",
     "output_type": "stream",
     "text": [
      "Train on 14746 samples, validate on 1639 samples\n",
      "WARNING:tensorflow:From /home/nisarg/.local/lib/python3.6/site-packages/tensorflow/python/ops/math_ops.py:3066: to_int32 (from tensorflow.python.ops.math_ops) is deprecated and will be removed in a future version.\n",
      "Instructions for updating:\n",
      "Use tf.cast instead.\n",
      "Epoch 1/12\n",
      "14746/14746 [==============================] - 3s 217us/sample - loss: 0.6929 - dense_loss: 0.6929 - lstm_loss: 0.0000e+00 - dense_acc: 0.4618 - lstm_acc: 0.7789 - val_loss: 0.6854 - val_dense_loss: 0.6854 - val_lstm_loss: 0.0000e+00 - val_dense_acc: 0.8371 - val_lstm_acc: 1.0000\n",
      "Epoch 2/12\n",
      "14746/14746 [==============================] - 3s 172us/sample - loss: 0.5955 - dense_loss: 0.5955 - lstm_loss: 0.0000e+00 - dense_acc: 0.7992 - lstm_acc: 0.8746 - val_loss: 0.4406 - val_dense_loss: 0.4406 - val_lstm_loss: 0.0000e+00 - val_dense_acc: 0.8324 - val_lstm_acc: 0.5680\n",
      "Epoch 3/12\n",
      "14746/14746 [==============================] - 3s 170us/sample - loss: 0.3031 - dense_loss: 0.3031 - lstm_loss: 0.0000e+00 - dense_acc: 0.8752 - lstm_acc: 0.5080 - val_loss: 0.2126 - val_dense_loss: 0.2126 - val_lstm_loss: 0.0000e+00 - val_dense_acc: 0.9524 - val_lstm_acc: 0.4816\n",
      "Epoch 4/12\n",
      "14746/14746 [==============================] - 2s 144us/sample - loss: 0.1592 - dense_loss: 0.1592 - lstm_loss: 0.0000e+00 - dense_acc: 0.9695 - lstm_acc: 0.4453 - val_loss: 0.1363 - val_dense_loss: 0.1363 - val_lstm_loss: 0.0000e+00 - val_dense_acc: 0.9784 - val_lstm_acc: 0.4556\n",
      "Epoch 5/12\n",
      "14746/14746 [==============================] - 2s 168us/sample - loss: 0.0998 - dense_loss: 0.0998 - lstm_loss: 0.0000e+00 - dense_acc: 0.9841 - lstm_acc: 0.4187 - val_loss: 0.0826 - val_dense_loss: 0.0826 - val_lstm_loss: 0.0000e+00 - val_dense_acc: 0.9908 - val_lstm_acc: 0.4523\n",
      "Epoch 6/12\n",
      "14746/14746 [==============================] - 3s 175us/sample - loss: 0.0599 - dense_loss: 0.0599 - lstm_loss: 0.0000e+00 - dense_acc: 0.9908 - lstm_acc: 0.4185 - val_loss: 0.0486 - val_dense_loss: 0.0486 - val_lstm_loss: 0.0000e+00 - val_dense_acc: 0.9941 - val_lstm_acc: 0.4523\n",
      "Epoch 7/12\n",
      "14746/14746 [==============================] - 2s 155us/sample - loss: 0.0338 - dense_loss: 0.0338 - lstm_loss: 0.0000e+00 - dense_acc: 0.9947 - lstm_acc: 0.4192 - val_loss: 0.0242 - val_dense_loss: 0.0242 - val_lstm_loss: 0.0000e+00 - val_dense_acc: 0.9941 - val_lstm_acc: 0.4556\n",
      "Epoch 8/12\n",
      "14746/14746 [==============================] - 2s 157us/sample - loss: 0.0149 - dense_loss: 0.0149 - lstm_loss: 0.0000e+00 - dense_acc: 0.9984 - lstm_acc: 0.4231 - val_loss: 0.0080 - val_dense_loss: 0.0080 - val_lstm_loss: 0.0000e+00 - val_dense_acc: 1.0000 - val_lstm_acc: 0.4523\n",
      "Epoch 9/12\n",
      "14746/14746 [==============================] - 2s 143us/sample - loss: 0.0042 - dense_loss: 0.0042 - lstm_loss: 0.0000e+00 - dense_acc: 1.0000 - lstm_acc: 0.4129 - val_loss: 0.0021 - val_dense_loss: 0.0021 - val_lstm_loss: 0.0000e+00 - val_dense_acc: 1.0000 - val_lstm_acc: 0.4425\n",
      "Epoch 10/12\n",
      "14746/14746 [==============================] - 3s 171us/sample - loss: 0.0010 - dense_loss: 0.0010 - lstm_loss: 0.0000e+00 - dense_acc: 1.0000 - lstm_acc: 0.4055 - val_loss: 4.9302e-04 - val_dense_loss: 4.9302e-04 - val_lstm_loss: 0.0000e+00 - val_dense_acc: 1.0000 - val_lstm_acc: 0.4393\n",
      "Epoch 11/12\n",
      "14746/14746 [==============================] - 2s 147us/sample - loss: 2.4648e-04 - dense_loss: 2.4648e-04 - lstm_loss: 0.0000e+00 - dense_acc: 1.0000 - lstm_acc: 0.4025 - val_loss: 1.1650e-04 - val_dense_loss: 1.1650e-04 - val_lstm_loss: 0.0000e+00 - val_dense_acc: 1.0000 - val_lstm_acc: 0.4393\n",
      "Epoch 12/12\n",
      "14746/14746 [==============================] - 2s 143us/sample - loss: 6.5141e-05 - dense_loss: 6.5141e-05 - lstm_loss: 0.0000e+00 - dense_acc: 1.0000 - lstm_acc: 0.4025 - val_loss: 3.9025e-05 - val_dense_loss: 3.9025e-05 - val_lstm_loss: 0.0000e+00 - val_dense_acc: 1.0000 - val_lstm_acc: 0.4393\n"
     ]
    },
    {
     "data": {
      "text/plain": [
       "<tensorflow.python.keras.callbacks.History at 0x7fb42039b940>"
      ]
     },
     "execution_count": 14,
     "metadata": {},
     "output_type": "execute_result"
    }
   ],
   "source": [
    "digit_model.fit(X_train,[Y_train, np.zeros(Y_train.shape)], epochs=num_epochs, batch_size=batch_size, validation_split=0.1)"
   ]
  },
  {
   "cell_type": "code",
   "execution_count": 15,
   "metadata": {},
   "outputs": [],
   "source": [
    "model_name = 'model_weights/binary_addition_' + str(nodes) + '_nodes_1_layer_seqlen_3.h5'\n",
    "digit_model.save_weights(model_name, overwrite=True)"
   ]
  },
  {
   "cell_type": "markdown",
   "metadata": {},
   "source": [
    "### Make predictions with the model\n",
    "\n",
    "Use the trained model to make predictions. Here, we take two binary input strings and feed the model bit by bit to predict the next bit in the output. The predicted output and the lstm states at each timestep is stored."
   ]
  },
  {
   "cell_type": "code",
   "execution_count": 16,
   "metadata": {},
   "outputs": [],
   "source": [
    "def predict(x, binary_dim, prediction_model):\n",
    "    \n",
    "    predicted_digit_o = []\n",
    "    lstm_1_o = []\n",
    "   \n",
    "    prediction_model.reset_states()\n",
    "    \n",
    "    for i in range(binary_dim):\n",
    "        [predicted_digit_temp,lstm_1_temp] = prediction_model.predict(x[:, i:i+1 ,:])\n",
    "        predicted_digit_o.append(predicted_digit_temp[0,0,:])\n",
    "        lstm_1_o.append(lstm_1_temp[0,0,:])\n",
    "        \n",
    "    return predicted_digit_o,lstm_1_o"
   ]
  },
  {
   "cell_type": "code",
   "execution_count": 17,
   "metadata": {
    "scrolled": true
   },
   "outputs": [
    {
     "name": "stdout",
     "output_type": "stream",
     "text": [
      "(1, 1, 2)\n",
      "(1, 1, 3)\n",
      "(1, 1, 1)\n"
     ]
    }
   ],
   "source": [
    "prediction_model = lstm_model(seq_len=1,EMBEDDING_DIM=nodes, batch_size=1, stateful=True)\n",
    "prediction_model.load_weights(model_name)"
   ]
  },
  {
   "cell_type": "markdown",
   "metadata": {},
   "source": [
    "#### LSTM Cell outputs:\n",
    "\n",
    "To understand the LSTM Cell outputs, we give the input numbers such that their binary representations have all the possible combinations of bit addition that we want to observe.\n",
    "\n",
    "We can take a = 78, b = 87 and c = (a + b) to observe all the cases.\n",
    "\n",
    "a =  78 = '0 1 0 0 1 1 1 0' <br>\n",
    "b =  87 = '0 1 0 1 0 1 1 1' <br>\n",
    "c = 165 = '1 0 1 0 0 1 0 1' <br>\n",
    "\n",
    "To view some continous pattern, we can take the inputs as a = 62 and b = 87. \n",
    "\n",
    "a =  63 = '1 1 1 1 1 1 0 0' <br>\n",
    "b = 127 = '1 1 1 1 1 1 1 0' <br>\n",
    "c = 190 = '0 1 1 1 1 1 0 1' <br>"
   ]
  },
  {
   "cell_type": "code",
   "execution_count": 18,
   "metadata": {},
   "outputs": [
    {
     "data": {
      "text/plain": [
       "(1, 13, 2)"
      ]
     },
     "execution_count": 18,
     "metadata": {},
     "output_type": "execute_result"
    }
   ],
   "source": [
    "binary_length_test = 13\n",
    "x1_test = np.array([0,1,1,1,1,0,0,0,1,1,0,1,0]) # enter input in reverse order (Left- least significant bit)\n",
    "x2_test = np.array([0,1,1,1,1,0,1,0,0,0,0,1,0])\n",
    "x_test = np.transpose(np.array([[x1_test, x2_test]]),[0,2,1])\n",
    "x_test.shape"
   ]
  },
  {
   "cell_type": "code",
   "execution_count": 19,
   "metadata": {},
   "outputs": [
    {
     "name": "stdout",
     "output_type": "stream",
     "text": [
      "[0, 1, 1, 1, 1, 0, 0, 0, 0, 0, 0, 1, 0]\n"
     ]
    }
   ],
   "source": [
    "# To check carry function \n",
    "cin = 0\n",
    "carry_temp = []\n",
    "for j in range(binary_length_test):\n",
    "    a = x1_test[j]\n",
    "    b = x2_test[j]\n",
    "    \n",
    "    carry_out = (a & b) | (cin&(a^b))\n",
    "    carry_temp.append(carry_out)\n",
    "    cin = carry_out\n",
    "\n",
    "print(carry_temp)"
   ]
  },
  {
   "cell_type": "code",
   "execution_count": 20,
   "metadata": {},
   "outputs": [],
   "source": [
    "def plot_heatmap_nodes(x_test, binary_length_test, prediction_model):\n",
    "    \n",
    "    predicted_digit, lstm_1_o = predict(x_test, binary_length_test, prediction_model)\n",
    "    lstm_1_arr_3N = np.array(lstm_1_o).T\n",
    "    predicted_output = np.uint8(np.array(predicted_digit) > 0.5).T[0]\n",
    "    \n",
    "    print('Input 1:         ',(x_test[0,:,0]).T)\n",
    "    print('Input 2:         ',(x_test[0,:,1]).T)\n",
    "    print('Predicted output:',predicted_output)\n",
    "    \n",
    "    labels_x_axis = [x1 + x2 + x3 \\\n",
    "                    for (x1, x2, x3) in zip(np.array(x_test[0,:,0], dtype='str'), \\\n",
    "                    np.array(x_test[0,:,1], dtype='str'), np.array(predicted_output, dtype='str'))]\n",
    "    plt.figure(figsize=[25,6])\n",
    "    ax2 = sns.heatmap(lstm_1_arr_3N ,xticklabels=labels_x_axis, vmin=-1, vmax=1)\n",
    "    # Loop over data dimensions and create text annotations."
   ]
  },
  {
   "cell_type": "markdown",
   "metadata": {},
   "source": [
    "#### Sample Examples:\n",
    "\n",
    "Here, the input and the output binary strings are to be read from left to right i.e. the left most bit is the least significant bit. The flipping of the bits was done so that the LSTM model processes the inputs in correct sequence."
   ]
  },
  {
   "cell_type": "code",
   "execution_count": 21,
   "metadata": {
    "scrolled": false
   },
   "outputs": [
    {
     "name": "stdout",
     "output_type": "stream",
     "text": [
      "Input 1:          [0 1 1 1 1 0 0 0 1 1 0 1 0]\n",
      "Input 2:          [0 1 1 1 1 0 1 0 0 0 0 1 0]\n",
      "Predicted output: [0 0 1 1 1 1 1 1 0 0 1 0 1]\n"
     ]
    },
    {
     "data": {
      "image/png": "[encoded data removed]",
      "text/plain": [
       "<Figure size 1800x432 with 2 Axes>"
      ]
     },
     "metadata": {
      "needs_background": "light"
     },
     "output_type": "display_data"
    }
   ],
   "source": [
    "plot_heatmap_nodes(x_test, binary_length_test, prediction_model)"
   ]
  },
  {
   "cell_type": "code",
   "execution_count": 22,
   "metadata": {},
   "outputs": [],
   "source": [
    "randBinList = lambda n: [rn.randint(0,1) for b in range(n)]"
   ]
  },
  {
   "cell_type": "code",
   "execution_count": 23,
   "metadata": {},
   "outputs": [],
   "source": [
    "### For random sample examples:\n",
    "\n",
    "num_examples = 10\n",
    "max_length = 16 \n",
    "\n",
    "x_test = []\n",
    "predicted_output = []\n",
    "lstm_1_arr_3N = []\n",
    "carry = []\n",
    "sum_bit = []\n",
    "\n",
    "for i in range(num_examples):\n",
    "    \n",
    "    # Generating random input strings of random length (Max-16)\n",
    "    length = rn.randint(1,max_length)\n",
    "    x1_test = np.flip(np.concatenate((np.zeros(max_length-length, dtype='int'), np.array(randBinList(length),dtype='int')))) # Padding with zeroes\n",
    "    x2_test = np.flip(np.concatenate((np.zeros(max_length-length, dtype='int'), np.array(randBinList(length),dtype='int')))) # Padding with zeroes\n",
    "    \n",
    "    x_test_temp = np.transpose(np.array([[x1_test, x2_test]]),[0,2,1])\n",
    "    x_test.append(x_test_temp)\n",
    "    \n",
    "    # Storing the actual values of sum and carry for each example \n",
    "    cin = 0\n",
    "    carry_temp = []\n",
    "    sum_bit_temp = []\n",
    "    \n",
    "    for j in range(max_length):\n",
    "        a = x1_test[j]\n",
    "        b = x2_test[j]\n",
    "    \n",
    "        carry_out = (a & b) | (cin&(a^b))\n",
    "        carry_temp.append(carry_out)\n",
    "        cin = carry_out\n",
    "        \n",
    "        sum_bit_out = (a^b^cin)\n",
    "        sum_bit_temp.append(sum_bit_out)\n",
    "        \n",
    "    carry.append(carry_temp)\n",
    "    sum_bit.append(sum_bit_temp)\n",
    "    \n",
    "    # Predicting the addition sum\n",
    "    predicted_digit, lstm_1_o = predict(x_test_temp, max_length, prediction_model)\n",
    "    lstm_1_arr_3N.append(np.array(lstm_1_o))\n",
    "    predicted_output.append(np.uint8(np.array(predicted_digit) > 0.5).T[0])\n",
    "\n",
    "x_test = np.squeeze(np.array(x_test), axis=1)"
   ]
  },
  {
   "cell_type": "code",
   "execution_count": 24,
   "metadata": {},
   "outputs": [
    {
     "data": {
      "text/plain": [
       "(10, 16)"
      ]
     },
     "execution_count": 24,
     "metadata": {},
     "output_type": "execute_result"
    }
   ],
   "source": [
    "carry = np.array(carry)\n",
    "carry.shape"
   ]
  },
  {
   "cell_type": "code",
   "execution_count": 25,
   "metadata": {},
   "outputs": [
    {
     "data": {
      "text/plain": [
       "(10, 16)"
      ]
     },
     "execution_count": 25,
     "metadata": {},
     "output_type": "execute_result"
    }
   ],
   "source": [
    "sum_bit = np.array(sum_bit)\n",
    "sum_bit.shape"
   ]
  },
  {
   "cell_type": "code",
   "execution_count": 26,
   "metadata": {},
   "outputs": [
    {
     "data": {
      "text/plain": [
       "(10, 16, 3)"
      ]
     },
     "execution_count": 26,
     "metadata": {},
     "output_type": "execute_result"
    }
   ],
   "source": [
    "lstm_1_arr_3N = np.array(lstm_1_arr_3N)\n",
    "lstm_1_arr_3N.shape"
   ]
  },
  {
   "cell_type": "code",
   "execution_count": 27,
   "metadata": {},
   "outputs": [],
   "source": [
    "def plot_general_heatmap(lstm_node, num_examples, max_length, sum_bit, carry):\n",
    "    \n",
    "    fig, ax = plt.subplots()\n",
    "    im = ax.imshow(np.fliplr(lstm_node), cmap='magma', vmin=-1, vmax=1, aspect='auto')\n",
    "    plt.colorbar(im)\n",
    "    ax.set_xticks(np.arange(max_length))\n",
    "    ax.set_yticks(np.arange(num_examples))\n",
    "\n",
    "    for i in range(num_examples):\n",
    "        for j in range(max_length):\n",
    "            str_text = str(sum_bit[i, j]) + str(carry[i, j])\n",
    "            text = ax.text(max_length-1-j, i, str_text,\n",
    "                       ha=\"center\", va=\"center\", color=\"w\")\n",
    "\n",
    "    ax.set_title(\"Heatmap of LSTM node activation\")\n",
    "    fig.tight_layout()\n",
    "    plt.show()"
   ]
  },
  {
   "cell_type": "code",
   "execution_count": 28,
   "metadata": {},
   "outputs": [
    {
     "data": {
      "image/png": "[encoded data removed]",
      "text/plain": [
       "<Figure size 432x288 with 2 Axes>"
      ]
     },
     "metadata": {
      "needs_background": "light"
     },
     "output_type": "display_data"
    }
   ],
   "source": [
    "# LSTM Node 1\n",
    "plot_general_heatmap(lstm_1_arr_3N[:,:,0], num_examples, max_length, sum_bit, carry)"
   ]
  },
  {
   "cell_type": "code",
   "execution_count": 29,
   "metadata": {},
   "outputs": [
    {
     "data": {
      "image/png": "[encoded data removed]",
      "text/plain": [
       "<Figure size 432x288 with 2 Axes>"
      ]
     },
     "metadata": {
      "needs_background": "light"
     },
     "output_type": "display_data"
    }
   ],
   "source": [
    "# LSTM Node 2\n",
    "plot_general_heatmap(lstm_1_arr_3N[:,:,1], num_examples, max_length, sum_bit, carry)"
   ]
  },
  {
   "cell_type": "code",
   "execution_count": 30,
   "metadata": {},
   "outputs": [
    {
     "data": {
      "image/png": "[encoded data removed]",
      "text/plain": [
       "<Figure size 432x288 with 2 Axes>"
      ]
     },
     "metadata": {
      "needs_background": "light"
     },
     "output_type": "display_data"
    }
   ],
   "source": [
    "# LSTM Node 3\n",
    "plot_general_heatmap(lstm_1_arr_3N[:,:,2], num_examples, max_length, sum_bit, carry)"
   ]
  },
  {
   "cell_type": "code",
   "execution_count": null,
   "metadata": {},
   "outputs": [],
   "source": []
  }
 ],
 "metadata": {
  "kernelspec": {
   "display_name": "Python 3",
   "language": "python",
   "name": "python3"
  },
  "language_info": {
   "codemirror_mode": {
    "name": "ipython",
    "version": 3
   },
   "file_extension": ".py",
   "mimetype": "text/x-python",
   "name": "python",
   "nbconvert_exporter": "python",
   "pygments_lexer": "ipython3",
   "version": "3.6.7"
  }
 },
 "nbformat": 4,
 "nbformat_minor": 2
}
